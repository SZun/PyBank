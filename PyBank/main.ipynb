{
 "cells": [
  {
   "cell_type": "code",
   "execution_count": 5,
   "id": "bdfbaa11",
   "metadata": {},
   "outputs": [],
   "source": [
    "#importing the csv module\n",
    "import csv"
   ]
  },
  {
   "cell_type": "code",
   "execution_count": 6,
   "id": "89a1440f",
   "metadata": {},
   "outputs": [
    {
     "data": {
      "text/plain": [
       "[['Jan-2010', 867884],\n",
       " ['Feb-2010', 984655],\n",
       " ['Mar-2010', 322013],\n",
       " ['Apr-2010', -69417],\n",
       " ['May-2010', 310503]]"
      ]
     },
     "execution_count": 6,
     "metadata": {},
     "output_type": "execute_result"
    }
   ],
   "source": [
    "# initializing data variable as empty list\n",
    "data = []\n",
    "\n",
    "#opening and reading the budget data csv file and saving each row as a list to the data list\n",
    "with open('../Resources/budget_data.csv', 'r') as i:\n",
    "    #skip headers\n",
    "    next(i)\n",
    "    #reading each row of the csv file\n",
    "    for row in csv.reader(i):\n",
    "        #appending list of rows to data list\n",
    "        data += [row]\n",
    "\n",
    "# casting the profit/losses column to integers\n",
    "data = [[i[0],int(i[1])] for i in data]\n",
    "\n",
    "# outputting/checking the first 5 values of the data list\n",
    "data[:5]"
   ]
  },
  {
   "cell_type": "code",
   "execution_count": 7,
   "id": "2a44a3c4",
   "metadata": {},
   "outputs": [],
   "source": [
    "# variable to represent the data length minus the last index for the coming change list\n",
    "LENGTH = len(data[:-1])"
   ]
  },
  {
   "cell_type": "code",
   "execution_count": 8,
   "id": "12181bb0",
   "metadata": {},
   "outputs": [
    {
     "data": {
      "text/plain": [
       "[116771, -662642, -391430, 379920, 212354]"
      ]
     },
     "execution_count": 8,
     "metadata": {},
     "output_type": "execute_result"
    }
   ],
   "source": [
    "# initializing change variable as empty list\n",
    "change = []\n",
    "\n",
    "#looping over all indexes in the range of LENGTH\n",
    "for i in range(LENGTH):\n",
    "    #appending the difference between each entry and each previous entry to the change list\n",
    "    change.append(data[i+1][1] - data[i][1])\n",
    "\n",
    "# outputting/checking the first 5 values of the change list\n",
    "change[:5]"
   ]
  },
  {
   "cell_type": "code",
   "execution_count": 9,
   "id": "637adbab",
   "metadata": {},
   "outputs": [],
   "source": [
    "# lambda expression/function to get/format the date and value of the greatest increase/decrease\n",
    "format_greatest = lambda g: f\"{data[change.index(g)+1][0]} (${g})\""
   ]
  },
  {
   "cell_type": "code",
   "execution_count": 10,
   "id": "fccb801c",
   "metadata": {},
   "outputs": [],
   "source": [
    "# got the total months by getting the length of the data list\n",
    "total_months = len(data)\n",
    "\n",
    "# got total through summation of the profit/losses column\n",
    "total = f\"${sum(i[1] for i in data)}\"\n",
    "\n",
    "# getting the average change by dividing the sum of the change list by the length \n",
    "# and rounding the result to two past the decimal point\n",
    "avg_change = round(sum(change)/LENGTH,2)\n",
    "\n",
    "# getting formatted min/max dates/values from the change list\n",
    "increase = format_greatest(max(change))\n",
    "decrease = format_greatest(min(change))"
   ]
  },
  {
   "cell_type": "code",
   "execution_count": 11,
   "id": "df5335cc",
   "metadata": {},
   "outputs": [],
   "source": [
    "# list containing output\n",
    "output = [\"Financial Analysis\", \"----------------------------\", \n",
    "         f\"Total Months: {total_months}\", f\"Total: {total}\",\n",
    "         f\"Average Change: ${avg_change}\",\n",
    "         f\"Greatest Increase in Profits: {increase}\",\n",
    "         f\"Greatest Decrease in Profits: {decrease}\"]"
   ]
  },
  {
   "cell_type": "code",
   "execution_count": 12,
   "id": "83909f67",
   "metadata": {},
   "outputs": [
    {
     "name": "stdout",
     "output_type": "stream",
     "text": [
      "Financial Analysis\n",
      "----------------------------\n",
      "Total Months: 86\n",
      "Total: $38382578\n",
      "Average Change: $-2315.12\n",
      "Greatest Increase in Profits: Feb-2012 ($1926159)\n",
      "Greatest Decrease in Profits: Sep-2013 ($-2196167)\n"
     ]
    }
   ],
   "source": [
    "#creating and writing text file called RESULTS.txt\n",
    "with open('RESULTS.txt', 'w') as i:\n",
    "    # looping over output list\n",
    "    for j in output:\n",
    "        # printing each line of output/financial analysis\n",
    "        print(j)\n",
    "        # writing each each line of output/financial analysis to the RESULTS.txt file\n",
    "        i.write(j + \"\\n\")"
   ]
  }
 ],
 "metadata": {
  "kernelspec": {
   "display_name": "Python 3 (ipykernel)",
   "language": "python",
   "name": "python3"
  },
  "language_info": {
   "codemirror_mode": {
    "name": "ipython",
    "version": 3
   },
   "file_extension": ".py",
   "mimetype": "text/x-python",
   "name": "python",
   "nbconvert_exporter": "python",
   "pygments_lexer": "ipython3",
   "version": "3.7.13"
  }
 },
 "nbformat": 4,
 "nbformat_minor": 5
}
