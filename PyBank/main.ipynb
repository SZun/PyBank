{
 "cells": [
  {
   "cell_type": "code",
   "execution_count": 2,
   "id": "bdfbaa11",
   "metadata": {},
   "outputs": [],
   "source": [
    "import csv\n",
    "from pathlib import Path"
   ]
  },
  {
   "cell_type": "code",
   "execution_count": 3,
   "id": "5b534804",
   "metadata": {},
   "outputs": [],
   "source": [
    "budget_data_path = Path('../Resources/budget_data.csv')"
   ]
  },
  {
   "cell_type": "code",
   "execution_count": 20,
   "id": "0b78988e",
   "metadata": {},
   "outputs": [
    {
     "data": {
      "text/plain": [
       "['867884',\n",
       " '984655',\n",
       " '322013',\n",
       " '-69417',\n",
       " '310503',\n",
       " '522857',\n",
       " '1033096',\n",
       " '604885',\n",
       " '-216386',\n",
       " '477532',\n",
       " '893810',\n",
       " '-80353',\n",
       " '779806',\n",
       " '-335203',\n",
       " '697845',\n",
       " '793163',\n",
       " '485070',\n",
       " '584122',\n",
       " '62729',\n",
       " '668179',\n",
       " '899906',\n",
       " '834719',\n",
       " '132003',\n",
       " '309978',\n",
       " '-755566',\n",
       " '1170593',\n",
       " '252788',\n",
       " '1151518',\n",
       " '817256',\n",
       " '570757',\n",
       " '506702',\n",
       " '-1022534',\n",
       " '475062',\n",
       " '779976',\n",
       " '144175',\n",
       " '542494',\n",
       " '359333',\n",
       " '321469',\n",
       " '67780',\n",
       " '471435',\n",
       " '565603',\n",
       " '872480',\n",
       " '789480',\n",
       " '999942',\n",
       " '-1196225',\n",
       " '268997',\n",
       " '-687986',\n",
       " '1150461',\n",
       " '682458',\n",
       " '617856',\n",
       " '824098',\n",
       " '581943',\n",
       " '132864',\n",
       " '448062',\n",
       " '689161',\n",
       " '800701',\n",
       " '1166643',\n",
       " '947333',\n",
       " '578668',\n",
       " '988505',\n",
       " '1139715',\n",
       " '1029471',\n",
       " '687533',\n",
       " '-524626',\n",
       " '158620',\n",
       " '87795',\n",
       " '423389',\n",
       " '840723',\n",
       " '568529',\n",
       " '332067',\n",
       " '989499',\n",
       " '778237',\n",
       " '650000',\n",
       " '-1100387',\n",
       " '-174946',\n",
       " '757143',\n",
       " '445709',\n",
       " '712961',\n",
       " '-1163797',\n",
       " '569899',\n",
       " '768450',\n",
       " '102685',\n",
       " '795914',\n",
       " '60988',\n",
       " '138230',\n",
       " '671099']"
      ]
     },
     "execution_count": 20,
     "metadata": {},
     "output_type": "execute_result"
    }
   ],
   "source": [
    "data = []\n",
    "\n",
    "with open(budget_data_path, 'r') as i:\n",
    "    for row in csv.reader(i):\n",
    "        data += [row[1]]\n",
    "\n",
    "data = data[1:]\n",
    "\n",
    "data"
   ]
  },
  {
   "cell_type": "code",
   "execution_count": 21,
   "id": "3ebe1c5c",
   "metadata": {},
   "outputs": [
    {
     "ename": "TypeError",
     "evalue": "unsupported operand type(s) for +: 'int' and 'str'",
     "output_type": "error",
     "traceback": [
      "\u001b[0;31m---------------------------------------------------------------------------\u001b[0m",
      "\u001b[0;31mTypeError\u001b[0m                                 Traceback (most recent call last)",
      "Input \u001b[0;32mIn [21]\u001b[0m, in \u001b[0;36m<cell line: 2>\u001b[0;34m()\u001b[0m\n\u001b[1;32m      1\u001b[0m total_months \u001b[38;5;241m=\u001b[39m \u001b[38;5;28mlen\u001b[39m(data)\n\u001b[0;32m----> 2\u001b[0m total \u001b[38;5;241m=\u001b[39m \u001b[38;5;124mf\u001b[39m\u001b[38;5;124m\"\u001b[39m\u001b[38;5;124m$\u001b[39m\u001b[38;5;132;01m{\u001b[39;00m\u001b[38;5;28msum\u001b[39m(data)\u001b[38;5;132;01m}\u001b[39;00m\u001b[38;5;124m\"\u001b[39m\n\u001b[1;32m      3\u001b[0m total_months\n",
      "\u001b[0;31mTypeError\u001b[0m: unsupported operand type(s) for +: 'int' and 'str'"
     ]
    }
   ],
   "source": [
    "total_months = len(data)\n",
    "# total = f\"${sum(data)}\"\n",
    "total_months\n",
    "# for i in data:"
   ]
  },
  {
   "cell_type": "code",
   "execution_count": null,
   "id": "25aef8e6",
   "metadata": {},
   "outputs": [],
   "source": []
  }
 ],
 "metadata": {
  "kernelspec": {
   "display_name": "Python 3 (ipykernel)",
   "language": "python",
   "name": "python3"
  },
  "language_info": {
   "codemirror_mode": {
    "name": "ipython",
    "version": 3
   },
   "file_extension": ".py",
   "mimetype": "text/x-python",
   "name": "python",
   "nbconvert_exporter": "python",
   "pygments_lexer": "ipython3",
   "version": "3.9.12"
  }
 },
 "nbformat": 4,
 "nbformat_minor": 5
}
